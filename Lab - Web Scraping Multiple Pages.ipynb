{
 "cells": [
  {
   "cell_type": "markdown",
   "metadata": {},
   "source": [
    "Retrieve an arbitrary Wikipedia page of \"Python\" and create a list of links on that page: url ='https://en.wikipedia.org/wiki/Python'"
   ]
  },
  {
   "cell_type": "code",
   "execution_count": 1,
   "metadata": {},
   "outputs": [
    {
     "data": {
      "text/html": [
       "<div>\n",
       "<style scoped>\n",
       "    .dataframe tbody tr th:only-of-type {\n",
       "        vertical-align: middle;\n",
       "    }\n",
       "\n",
       "    .dataframe tbody tr th {\n",
       "        vertical-align: top;\n",
       "    }\n",
       "\n",
       "    .dataframe thead th {\n",
       "        text-align: right;\n",
       "    }\n",
       "</style>\n",
       "<table border=\"1\" class=\"dataframe\">\n",
       "  <thead>\n",
       "    <tr style=\"text-align: right;\">\n",
       "      <th></th>\n",
       "      <th>titulo</th>\n",
       "      <th>url</th>\n",
       "    </tr>\n",
       "  </thead>\n",
       "  <tbody>\n",
       "    <tr>\n",
       "      <th>0</th>\n",
       "      <td>List of songs written by Adam Levine</td>\n",
       "      <td>https://en.wikipedia.org/wiki/List_of_songs_wr...</td>\n",
       "    </tr>\n",
       "    <tr>\n",
       "      <th>1</th>\n",
       "      <td>List of songs written by Alexandru Cotoi</td>\n",
       "      <td>https://en.wikipedia.org/wiki/List_of_songs_wr...</td>\n",
       "    </tr>\n",
       "    <tr>\n",
       "      <th>2</th>\n",
       "      <td>List of songs written by Alicia Keys</td>\n",
       "      <td>https://en.wikipedia.org/wiki/List_of_songs_wr...</td>\n",
       "    </tr>\n",
       "    <tr>\n",
       "      <th>3</th>\n",
       "      <td>List of songs written by An Yujin</td>\n",
       "      <td>https://en.wikipedia.org/wiki/List_of_songs_wr...</td>\n",
       "    </tr>\n",
       "    <tr>\n",
       "      <th>4</th>\n",
       "      <td>List of songs written by Ashford &amp; Simpson</td>\n",
       "      <td>https://en.wikipedia.org/wiki/List_of_songs_wr...</td>\n",
       "    </tr>\n",
       "    <tr>\n",
       "      <th>...</th>\n",
       "      <td>...</td>\n",
       "      <td>...</td>\n",
       "    </tr>\n",
       "    <tr>\n",
       "      <th>138</th>\n",
       "      <td>List of songs written by Tsunku</td>\n",
       "      <td>https://en.wikipedia.org/wiki/List_of_songs_wr...</td>\n",
       "    </tr>\n",
       "    <tr>\n",
       "      <th>139</th>\n",
       "      <td>List of songs written by Walter Afanasieff</td>\n",
       "      <td>https://en.wikipedia.org/wiki/List_of_songs_wr...</td>\n",
       "    </tr>\n",
       "    <tr>\n",
       "      <th>140</th>\n",
       "      <td>List of songs written by William \"Mickey\" Stev...</td>\n",
       "      <td>https://en.wikipedia.org/wiki/List_of_songs_wr...</td>\n",
       "    </tr>\n",
       "    <tr>\n",
       "      <th>141</th>\n",
       "      <td>List of songs written by Willie Dixon</td>\n",
       "      <td>https://en.wikipedia.org/wiki/List_of_songs_wr...</td>\n",
       "    </tr>\n",
       "    <tr>\n",
       "      <th>142</th>\n",
       "      <td>List of songs written by Willie Nelson</td>\n",
       "      <td>https://en.wikipedia.org/wiki/List_of_songs_wr...</td>\n",
       "    </tr>\n",
       "  </tbody>\n",
       "</table>\n",
       "<p>143 rows × 2 columns</p>\n",
       "</div>"
      ],
      "text/plain": [
       "                                                titulo  \\\n",
       "0                 List of songs written by Adam Levine   \n",
       "1             List of songs written by Alexandru Cotoi   \n",
       "2                 List of songs written by Alicia Keys   \n",
       "3                    List of songs written by An Yujin   \n",
       "4           List of songs written by Ashford & Simpson   \n",
       "..                                                 ...   \n",
       "138                    List of songs written by Tsunku   \n",
       "139         List of songs written by Walter Afanasieff   \n",
       "140  List of songs written by William \"Mickey\" Stev...   \n",
       "141              List of songs written by Willie Dixon   \n",
       "142             List of songs written by Willie Nelson   \n",
       "\n",
       "                                                   url  \n",
       "0    https://en.wikipedia.org/wiki/List_of_songs_wr...  \n",
       "1    https://en.wikipedia.org/wiki/List_of_songs_wr...  \n",
       "2    https://en.wikipedia.org/wiki/List_of_songs_wr...  \n",
       "3    https://en.wikipedia.org/wiki/List_of_songs_wr...  \n",
       "4    https://en.wikipedia.org/wiki/List_of_songs_wr...  \n",
       "..                                                 ...  \n",
       "138  https://en.wikipedia.org/wiki/List_of_songs_wr...  \n",
       "139  https://en.wikipedia.org/wiki/List_of_songs_wr...  \n",
       "140  https://en.wikipedia.org/wiki/List_of_songs_wr...  \n",
       "141  https://en.wikipedia.org/wiki/List_of_songs_wr...  \n",
       "142  https://en.wikipedia.org/wiki/List_of_songs_wr...  \n",
       "\n",
       "[143 rows x 2 columns]"
      ]
     },
     "execution_count": 1,
     "metadata": {},
     "output_type": "execute_result"
    }
   ],
   "source": [
    "import re\n",
    "import requests\n",
    "from bs4 import BeautifulSoup\n",
    "import pandas as pd\n",
    "\n",
    "response = requests.get('https://en.wikipedia.org/wiki/Special:PrefixIndex/List_of_songs_written_by')\n",
    "soup = BeautifulSoup(response.content)\n",
    "\n",
    "items = soup.find_all(name='div', class_=\"mw-prefixindex-body\")\n",
    "\n",
    "\n",
    "listado = []\n",
    "\n",
    "for item in items:\n",
    "    for a in item.find_all(name='a'):\n",
    "        listado.append({\n",
    "            'titulo': a.text,\n",
    "            'url': f\"https://en.wikipedia.org{a.get('href')}\"\n",
    "        })\n",
    "\n",
    "df = pd.DataFrame(listado)\n",
    "df"
   ]
  },
  {
   "cell_type": "markdown",
   "metadata": {},
   "source": [
    "Find the number of titles that have changed in the United States Code since its last release point: url = 'http://uscode.house.gov/download/download.shtml'"
   ]
  },
  {
   "cell_type": "code",
   "execution_count": 2,
   "metadata": {},
   "outputs": [
    {
     "name": "stderr",
     "output_type": "stream",
     "text": [
      "C:\\Users\\Public\\Documents\\Wondershare\\CreatorTemp\\ipykernel_16332\\493721667.py:4: XMLParsedAsHTMLWarning: It looks like you're parsing an XML document using an HTML parser. If this really is an HTML document (maybe it's XHTML?), you can ignore or filter this warning. If it's XML, you should know that using an XML parser will be more reliable. To parse this document as XML, make sure you have the lxml package installed, and pass the keyword argument `features=\"xml\"` into the BeautifulSoup constructor.\n",
      "  soup = BeautifulSoup(response.content)\n"
     ]
    },
    {
     "data": {
      "text/plain": [
       "[<div class=\"usctitlechanged\" id=\"us/usc/t18\">\n",
       " \n",
       "           Title 18 - Crimes and Criminal Procedure <span class=\"footnote\"><a class=\"fn\" href=\"#fn\">٭</a></span>\n",
       " </div>,\n",
       " <div class=\"usctitlechanged\" id=\"us/usc/t28\">\n",
       " \n",
       "           Title 28 - Judiciary and Judicial Procedure <span class=\"footnote\"><a class=\"fn\" href=\"#fn\">٭</a></span>\n",
       " </div>,\n",
       " <div class=\"usctitlechanged\" id=\"us/usc/t34\">\n",
       " \n",
       "           Title 34 - Crime Control and Law Enforcement\n",
       " \n",
       "         </div>,\n",
       " <div class=\"usctitlechanged\" id=\"us/usc/t41\">\n",
       " \n",
       "           Title 41 - Public Contracts <span class=\"footnote\"><a class=\"fn\" href=\"#fn\">٭</a></span>\n",
       " </div>]"
      ]
     },
     "execution_count": 2,
     "metadata": {},
     "output_type": "execute_result"
    }
   ],
   "source": [
    "# Opción 1:\n",
    "\n",
    "response = requests.get('http://uscode.house.gov/download/download.shtml')\n",
    "soup = BeautifulSoup(response.content)\n",
    "\n",
    "items2 = soup.find_all(name='div', class_=\"usctitlechanged\")\n",
    "\n",
    "listado2 = []\n",
    "\n",
    "for item in items2:\n",
    "    listado2.append(item)\n",
    "\n",
    "listado2\n"
   ]
  },
  {
   "cell_type": "code",
   "execution_count": 3,
   "metadata": {},
   "outputs": [
    {
     "data": {
      "text/plain": [
       "['Title 18 - Crimes and Criminal Procedure٭',\n",
       " 'Title 28 - Judiciary and Judicial Procedure٭',\n",
       " 'Title 34 - Crime Control and Law Enforcement',\n",
       " 'Title 41 - Public Contracts٭']"
      ]
     },
     "execution_count": 3,
     "metadata": {},
     "output_type": "execute_result"
    }
   ],
   "source": [
    "# Opción PRO:\n",
    "\n",
    "# Realizar la solicitud HTTP\n",
    "response = requests.get('http://uscode.house.gov/download/download.shtml')\n",
    "# Parsear el contenido con BeautifulSoup\n",
    "soup = BeautifulSoup(response.content, 'html.parser')\n",
    "# Encontrar todos los elementos <div> con clase 'usctitlechanged'\n",
    "items3 = soup.find_all('div', class_='usctitlechanged')\n",
    "# Lista para almacenar los textos limpios\n",
    "listado3 = []\n",
    "# Iterar sobre los elementos encontrados\n",
    "for item in items3:\n",
    "    # Obtener el texto limpio del elemento y añadirlo a la lista\n",
    "    text = item.get_text(strip=True)  # strip=True para eliminar espacios en blanco adicionales\n",
    "    listado3.append(text)\n",
    "# Imprimir o hacer lo que necesites con los resultados\n",
    "listado3"
   ]
  },
  {
   "cell_type": "markdown",
   "metadata": {},
   "source": [
    "Create a Python list with the top ten FBI's Most Wanted names: url = 'https://www.fbi.gov/wanted/topten'"
   ]
  },
  {
   "cell_type": "markdown",
   "metadata": {},
   "source": [
    "Display the 20 latest earthquakes info (date, time, latitude, longitude and region name) by the EMSC as a pandas dataframe: url = 'https://www.emsc-csem.org/Earthquake/'"
   ]
  },
  {
   "cell_type": "code",
   "execution_count": 4,
   "metadata": {},
   "outputs": [
    {
     "ename": "AttributeError",
     "evalue": "ResultSet object has no attribute 'find_all'. You're probably treating a list of elements like a single element. Did you call find_all() when you meant to call find()?",
     "output_type": "error",
     "traceback": [
      "\u001b[1;31m---------------------------------------------------------------------------\u001b[0m",
      "\u001b[1;31mAttributeError\u001b[0m                            Traceback (most recent call last)",
      "Cell \u001b[1;32mIn[4], line 8\u001b[0m\n\u001b[0;32m      5\u001b[0m filas\u001b[38;5;241m=\u001b[39m[]\n\u001b[0;32m      6\u001b[0m encabezados \u001b[38;5;241m=\u001b[39m []\n\u001b[1;32m----> 8\u001b[0m \u001b[38;5;28;01mfor\u001b[39;00m encabezado \u001b[38;5;129;01min\u001b[39;00m \u001b[43mtable\u001b[49m\u001b[38;5;241;43m.\u001b[39;49m\u001b[43mfind_all\u001b[49m(\u001b[38;5;124m'\u001b[39m\u001b[38;5;124mth\u001b[39m\u001b[38;5;124m'\u001b[39m):\n\u001b[0;32m      9\u001b[0m     encabezados\u001b[38;5;241m.\u001b[39mappend(encabezado\u001b[38;5;241m.\u001b[39mtext)\n\u001b[0;32m     11\u001b[0m \u001b[38;5;28;01mfor\u001b[39;00m row \u001b[38;5;129;01min\u001b[39;00m table\u001b[38;5;241m.\u001b[39mfind_all(\u001b[38;5;124m'\u001b[39m\u001b[38;5;124mtr\u001b[39m\u001b[38;5;124m'\u001b[39m):\n",
      "File \u001b[1;32mc:\\Users\\alvar\\AppData\\Local\\Programs\\Python\\Python311\\Lib\\site-packages\\bs4\\element.py:2433\u001b[0m, in \u001b[0;36mResultSet.__getattr__\u001b[1;34m(self, key)\u001b[0m\n\u001b[0;32m   2431\u001b[0m \u001b[38;5;28;01mdef\u001b[39;00m \u001b[38;5;21m__getattr__\u001b[39m(\u001b[38;5;28mself\u001b[39m, key):\n\u001b[0;32m   2432\u001b[0m \u001b[38;5;250m    \u001b[39m\u001b[38;5;124;03m\"\"\"Raise a helpful exception to explain a common code fix.\"\"\"\u001b[39;00m\n\u001b[1;32m-> 2433\u001b[0m     \u001b[38;5;28;01mraise\u001b[39;00m \u001b[38;5;167;01mAttributeError\u001b[39;00m(\n\u001b[0;32m   2434\u001b[0m         \u001b[38;5;124m\"\u001b[39m\u001b[38;5;124mResultSet object has no attribute \u001b[39m\u001b[38;5;124m'\u001b[39m\u001b[38;5;132;01m%s\u001b[39;00m\u001b[38;5;124m'\u001b[39m\u001b[38;5;124m. You\u001b[39m\u001b[38;5;124m'\u001b[39m\u001b[38;5;124mre probably treating a list of elements like a single element. Did you call find_all() when you meant to call find()?\u001b[39m\u001b[38;5;124m\"\u001b[39m \u001b[38;5;241m%\u001b[39m key\n\u001b[0;32m   2435\u001b[0m     )\n",
      "\u001b[1;31mAttributeError\u001b[0m: ResultSet object has no attribute 'find_all'. You're probably treating a list of elements like a single element. Did you call find_all() when you meant to call find()?"
     ]
    }
   ],
   "source": [
    "soup = BeautifulSoup(requests.request('GET', 'https://www.emsc-csem.org/Earthquake_information/', headers={}, data={}).text)\n",
    "\n",
    "table = soup.find_all(name='table', class_='eqs')\n",
    "\n",
    "filas=[]\n",
    "encabezados = []\n",
    "\n",
    "for encabezado in table.find_all('th'):\n",
    "    encabezados.append(encabezado.text)\n",
    "\n",
    "for row in table.find_all('tr'):\n",
    "    fila = []\n",
    "    for cell in row.find_all('td'):\n",
    "        fila.append(cell.text)\n",
    "    if len(fila) > 0:\n",
    "        filas.append(fila)\n",
    "\n",
    "\n",
    "\n",
    "\n"
   ]
  },
  {
   "cell_type": "code",
   "execution_count": null,
   "metadata": {},
   "outputs": [
    {
     "data": {
      "text/plain": [
       "[<table class=\"eqs table-scroll\">\n",
       " <thead><tr><th class=\"thico\"></th><th class=\"citiz\" colspan=\"2\"><div>Citizen<br/>response</div><div><div class=\"dm comm\"></div><div class=\"dm pic\"></div></div></th>\n",
       " <th class=\"tbdat\">Date &amp; Time<div>UTC</div></th><th class=\"tblat\">Lat.<div>degrees</div></th><th class=\"tblon\">Lon.<div>degrees</div></th><th class=\"tbdep\">Depth<div>km</div></th><th class=\"tbmag\">Mag.<span>[+]</span></th><th class=\"tbreg\">Region</th></tr></thead>\n",
       " <tbody></tbody>\n",
       " </table>]"
      ]
     },
     "execution_count": 48,
     "metadata": {},
     "output_type": "execute_result"
    }
   ],
   "source": [
    "table"
   ]
  },
  {
   "cell_type": "code",
   "execution_count": null,
   "metadata": {},
   "outputs": [],
   "source": [
    "curl 'https://www.emsc-csem.org/Earthquake_information/' \\\n",
    "  -H 'Accept: text/html,application/xhtml+xml,application/xml;q=0.9,image/avif,image/webp,image/apng,*/*;q=0.8,application/signed-exchange;v=b3;q=0.7' \\\n",
    "  -H 'Accept-Language: es-ES,es;q=0.9' \\\n",
    "  -H 'Cache-Control: max-age=0' \\\n",
    "  -H 'Connection: keep-alive' \\\n",
    "  -H $'Cookie: cookieConsent=1; PHPSESSID=b7941e4f62a500ff9dd66d730aa8746d; CSEMLB=\\u0021JJt1gvhspxeq8psdwuffO1Xy9EipsZSJROwpvJdfMBCXlMW1UPwXyWJNKKI28fPma5h5hw2Nm4Jcyg==' \\\n",
    "  -H 'Referer: https://www.emsc-csem.org/Earthquake_information/' \\\n",
    "  -H 'Sec-Fetch-Dest: document' \\\n",
    "  -H 'Sec-Fetch-Mode: navigate' \\\n",
    "  -H 'Sec-Fetch-Site: same-origin' \\\n",
    "  -H 'Sec-Fetch-User: ?1' \\\n",
    "  -H 'Upgrade-Insecure-Requests: 1' \\\n",
    "  -H 'User-Agent: Mozilla/5.0 (Windows NT 10.0; Win64; x64) AppleWebKit/537.36 (KHTML, like Gecko) Chrome/125.0.0.0 Safari/537.36' \\\n",
    "  -H 'sec-ch-ua: \"Google Chrome\";v=\"125\", \"Chromium\";v=\"125\", \"Not.A/Brand\";v=\"24\"' \\\n",
    "  -H 'sec-ch-ua-mobile: ?0' \\\n",
    "  -H 'sec-ch-ua-platform: \"Windows\"'"
   ]
  },
  {
   "cell_type": "code",
   "execution_count": null,
   "metadata": {},
   "outputs": [
    {
     "data": {
      "text/plain": [
       "'<!DOCTYPE html>\\n<html lang=\"en\"><head><meta charset=\"UTF-8\"><meta name=\"google-site-verification\" content=\"srFzNKBTd0FbRhtnzP--Tjxl01NfbscjYwkp4yOWuQY\" /><meta name=\"msvalidate.01\" content=\"BCAA3C04C41AE6E6AFAF117B9469C66F\" /><meta name=\"y_key\" content=\"43b36314ccb77957\" /><meta name=\"robots\" content=\"all\" /><meta name=\"description\"  lang=\"en\" content=\"Get informed on the latest earthquakes occurred around the globe. earthquakes today - recent and latest earthquakes, earthquake map and earthquake information. Earthquake information for europe. EMSC (European Mediterranean Seismological Centre) provides real time earthquake information for seismic events with magnitude larger than 5 in the European Mediterranean area and larger than 7 in the rest of the world.\"/><meta property=\"fb:app_id\" content=\"705855916142039\"/><meta property=\"og:locale\" content=\"en_FR\"/><meta property=\"og:type\" content=\"website\"/><meta property=\"og:site_name\" content=\"EMSC - European-Mediterranean Seismological Centre\"/><meta property=\"og:url\" content=\"//www.emsc-csem.org/Earthquake_information/\"/><meta property=\"og:title\" content=\"Earthquake information\" /><meta property=\"og:description\" content=\"Get informed on the latest earthquakes occurred around the globe.\" /><link rel=\"icon\" type=\"image/x-icon\" href=\"/favicon.png\">\\n<title>Earthquake information</title>\\n<script> console.log((new Date()).toString());</script><link rel=\"stylesheet\" href=\"//static3.emsc.eu/Css/m_emsc.min.css?v=2\"><script src=\"//static1.emsc.eu/javascript/jquery-3.6.0.min.js\"></script><script> var emsc_ws_url=\"wss://cobra.emsc-csem.org/eq_search\";</script><script src=\"//static1.emsc.eu/javascript/eq_list.min.js?v=2\" ></script><script src=\"//static2.emsc.eu/javascript/eq_list_kml.min.js\"  defer></script><script src=\"//static2.emsc.eu/javascript/emsc.min.js\" ></script><style>.eqs{width:100%;table-layout:fixed;border-spacing:0;border-collapse:collapse}.eqs thead,.eqs tbody{width:100%}table.eqs td{padding:8px 3px;font-size:14px}table.eqs th{padding:8px 3px;font-size:16px;background-color:#F8F8F8;border-bottom:2px solid}.tbmag{text-align:center}.tblat,.tblon,.tbdep{text-align:right}.tbreg{width:30%;text-align:left;white-space:nowrap;overflow:hidden;text-overflow:ellipsis}.tbdat{width:20%;text-align:center}.tbdep{padding-right:15px!important}.lilist:hover,.lilist.hover{border:1px solid #eee;font-weight:bold;cursor:pointer}.tago{text-align:left;font-size:10px;color:grey;text-align:center}.evtyp{width:26px;height:26px;background:url(//static1.emsc.eu/Css/img/sprites_eqtype.png);float:right;margin:1px;padding:0;display:inline-block}.bg-type_sonicboom{background-position:-29px -1px}.bg-type_volcano{background-position:-1px -1px}.bg-type_explosion{background-position:-113px -1px}.bg-type_landslide{background-position:-141px -1px}.bg-type_induced{background-position:-57px -1px}.bg-type_tsunami_pending{background-position:-169px -1px}.bg-type_tsunami{background-position:-197px -1px}.bg-type_tsunami_NO{background-position:-85px -1px}.eqs tr:nth-child(2n){background:#ccc}.eqs tr.rw,.eqs tr.bow{font-weight:bold}.eqs tr.rw,tr.rw .tbdat a{color:red}.eqs th>div{font-size:small}.eqs th>span{margin-left:4px;cursor:pointer}.tbmagtyp{display:none}.tbmagtyp.mts{display:table-cell;text-align:right}.sea{text-align:center;margin-bottom:50px}.form,.form form{display:inline-block}.form{margin-top:20px}.form th{padding:5px}.fopen,.form{display:none}.search{cursor:pointer;font-size:16px;font-weight:bold}.fopen,.fclose{margin-right:10px}.rset{margin-left:20px}.with{padding-left:145px}.coords-icon{background:url(//static2.emsc.eu/Css/img/search_map_icon.png);width:106px;height:30px;margin-left:-140px;cursor:pointer;position:absolute}.moref{display:none}.more{display:inline-block;cursor:pointer;border:1px solid;padding:0 4px;border-radius:5px;font-weight:900;font-size:large;vertical-align:top;margin-top:30px}td.ic{text-align:left}#map-coord{position:absolute;left:10%;top:20%;width:80%;height:600px;display:none}.lds-dual-ring{display:inline-block;width:80px;height:80px;position:absolute;left:50%;margin-left:-40px}.lds-dual-ring:after{content:\" \";display:block;width:64px;height:64px;margin:8px;border-radius:50%;border:6px solid #000;border-color:#000 transparent #000 transparent;animation:lds-dual-ring 1.2s linear infinite}@keyframes lds-dual-ring{0%{transform:rotate(0deg)}100%{transform:rotate(360deg)}}.page-cont{text-align:center}.pag{display:inline-block;margin:10px;padding:5px 10px;border:1px solid #eee;background-color:rgb(179,0,18);color:white;cursor:pointer}.selview{background:none;color:rgb(179,0,18);cursor:default}.tbdat a{text-decoration:none;color:black}.citiz{width:80px}.dm{display:inline-block;width:50%;margin-top:3px;text-align:center}.dm.comm:after,.dm.pic:after{width:16px;height:16px;background:url(//static3.emsc.eu/Images/icon/sprite_com_pic.png);display:block;content:\"\";margin:auto}.dm.comm:after{background-position:-19px -1px}.dm.pic:after{background-position:-1px -1px}.links{text-align:center;margin-bottom:1em}.links span{margin:0 5px;cursor:pointer}.cho{color:red;font-weight:bold}.subm{margin-top:15px}.moref label{font-weight:bold;margin-right:10px}#reg{text-transform:uppercase;width:98%}.prop{min-width:200px;position:absolute;z-index:20;height:auto;border:1px solid #666;padding:8px;font-size:10px;font-family:verdana;font-weight:bold;background:white;display:none}.prop .res{width:100%}.prop .res td{cursor:pointer;text-align:left}.prop-close{float:right;color:blue}.prop-send{color:blue;text-decoration:underline;font-weight:bold;cursor:pointer}#nbres{font-weight:bold;color:red;height:20px}.download{text-align:right}.downl{display:none;margin:0 5px}#text_extra{font-size:small}</style></head><body><div class=\"banner\" role=\"banner\"><div class=\"banner-ct\"><div class=\"bann-logo\">\\r\\n\\t\\t<a href=\"/\">\\r\\n\\t\\t<div class=\"spe emsc-logo\"></div>\\r\\n\\t\\t<div class=\"emsc-logo-label\">Centre Sismologique Euro-Méditerranéen</div>\\r\\n\\t\\t<div class=\"emsc-logo-label\">Euro-Mediterranean Seismological Centre</div>\\r\\n\\t\\t</a>\\r\\n\\t\\t</div><div class=\"hmenu\"><div class=\"hmenu0 hmenu1\"><div class=\"hmenus menut mt1\">Earthquakes</div><div class=\"hmenus menus\"><a href=\"//www.emsc-csem.org/Earthquake_map/\">World map</a></div><div class=\"hmenus menus\"><a href=\"//www.emsc-csem.org/Earthquake_information/\">Latest earthquakes</a></div><div class=\"hmenus menus\"><a href=\"//www.emsc-csem.org/Earthquake_data/\">Seismic data</a></div><div class=\"hmenus menus\"><a href=\"//www.emsc-csem.org/Special_reports/\">Special reports</a></div></div><div class=\"hmenu0 hmenu2\"><div class=\"hmenus menut mt2\">LastQuake</div><div class=\"hmenus menus\"><a href=\"//www.emsc-csem.org/lastquake/how_it_works/\">How it works</a></div><div class=\"hmenus menus\"><a href=\"//www.emsc-csem.org/lastquake/information_channels/\">Information channels</a></div><div class=\"hmenus menus\"><a href=\"//www.emsc-csem.org/lastquake/citizen_seismology/\">Citizen seismology</a></div></div><div class=\"hmenu0 hmenu3\"><div class=\"hmenus menut mt3\">About Us</div><div class=\"hmenus menus\"><a href=\"//www.emsc-csem.org/about_us/who_we_are/\">Who we are</a></div><div class=\"hmenus menus\"><a href=\"//www.emsc-csem.org/about_us/what_we_do/\">What we do</a></div><div class=\"hmenus menus\"><a href=\"//www.emsc-csem.org/about_us/timeline/\">Timeline</a></div></div><div class=\"hmenu0 hmenu4\"><div class=\"hmenus menut mt4\">Partner with us</div><div class=\"hmenus menus\"><a href=\"//www.emsc-csem.org/partner_with_us/mission_and_vision/\">Mission & vision</a></div><div class=\"hmenus menus\"><a href=\"//www.emsc-csem.org/partner_with_us/partners/\">Partners</a></div><div class=\"hmenus menus\"><a href=\"//www.emsc-csem.org/partner_with_us/support_our_work/\">Support our work</a></div></div></div><div class=\"btncont\"><a class=\"hbt hbtdonate\" href=\"/donate/\">Donate</a><a class=\"hbt hbtlogin\" href=\"/Member/login.php\">Log in</a></div></div>\\r\\n\\t\\t<div class=\"emsctime\"></div>\\r\\n\\t\\t</div><div class=\"bandeau\"><div class=\"bandeaumv\"></div></div><div class=\"content\" role=\"main\"><div class=\"sea\"><div class=\"search\"><span class=\"fclose\">&#9654;</span><span class=\"fopen\">&#9660;</span>Search earthquakes</div><div class=\"form\">\\r\\n\\r\\n<form >\\r\\n<table><tr><th></th><th>Period</th><th>Magnitude</th><th class=\"moref\">Depth</th><th class=\"moref\">Latitude</th><th class=\"moref\">Longitude</th>\\r\\n<th class=\"moref\"></th><th class=\"moref\">Reports</th><th class=\"moref\">Images</th><th class=\"moref\">Comments</th>\\r\\n</tr>\\r\\n<tr><td>Min: </td><td><input aria-label=\"date min\" name=\"datemin\" id=\"datemin\" type=\"date\" max=\"2024-06-25\" min=\"2004-10-01\"/></td><td><input aria-label=\"magnitude min\" name=\"magmin\" id=\"magmin\" type=\"number\" min=\"0\" max=\"11\" step=\"0.1\" /></td><td><input aria-label=\"depth min\" class=\"moref\" name=\"depthmin\" id=\"depthmin\" type=\"number\" min=\"-10\" max=\"10000\" step=\"1\" /></td>\\r\\n<td><input aria-label=\"latitude min\" class=\"moref\" name=\"latmin\" id=\"latmin\" type=\"number\" min=\"-90\" max=\"90\" step=\"0.001\" /></td>\\r\\n<td class=\"ic\"><input aria-label=\"longitude min\" class=\"moref\" name=\"lonmin\" id=\"lonmin\" type=\"number\" min=\"-180\" max=\"180\" step=\"0.001\" /></td>\\r\\n<td class=\"moref with\"><div class=\"moref coords-icon\" data-maploaded=\"false\"></div>With:</td><td class=\"moref\"><input aria-label=\"with reports\" type=\"checkbox\" name=\"reports\" id=\"reports\"/></td><td class=\"moref\"><input aria-label=\"with medias\" type=\"checkbox\" name=\"medias\" id=\"medias\"/></td><td class=\"moref\"><input aria-label=\"with comments\" type=\"checkbox\" name=\"comms\" id=\"comms\"/></td>\\r\\n</tr>\\r\\n<tr><td>Max: </td><td><input aria-label=\"date max\" name=\"datemax\" id=\"datemax\" type=\"date\" max=\"2024-06-25\" min=\"2004-10-01\"/></td><td><input aria-label=\"magnitude max\" name=\"magmax\" id=\"magmax\" type=\"number\" min=\"0\" max=\"11\" step=\"0.1\" /></td><td><input aria-label=\"depth max\" class=\"moref\" name=\"depthmax\" id=\"depthmax\" type=\"number\" min=\"-10\" max=\"10000\" step=\"1\" /></td>\\r\\n<td><input aria-label=\"latitude max\" class=\"moref\" name=\"latmax\" id=\"latmax\" type=\"number\" min=\"-90\" max=\"90\" step=\"0.001\" /> </td>\\r\\n<td class=\"ic\"><input aria-label=\"longitude max\" class=\"moref\" name=\"lonmax\" id=\"lonmax\" type=\"number\" min=\"-180\" max=\"180\" step=\"0.001\" /></td>\\r\\n<td class=\"moref\"></td><td class=\"moref\"></td><td class=\"moref\"></td><td class=\"moref\"></td>\\r\\n</tr>\\r\\n<tr class=\"moref\"><td><label for=\"flynn_region\">Region Name</label></td><td colspan=\"5\"><input type=\"text\" id=\"reg\" name=\"flynn_region\"/>\\r\\n\\t<div class=\"prop\"><table class=\"res\"><tr><td style=\"width:20px;\"><input class=\"checkall\" type=\"checkbox\"></td><td><span class=\"prop-close\">[x]</span></td></tr></table>\\r\\n\\t<div class=\"prop-send\">Send checked</div>\\r\\n\\t</div></td></tr>\\r\\n\\r\\n</table>\\r\\n\\r\\n<div class=\"subm\"><input type=\"submit\" value=\"Search\"/><input type=\"button\" value=\"Reset\" class=\"rset\"/></div>\\r\\n</form>\\r\\n<div class=\"more\">+</div>\\r\\n<div id=\"map-coord\"></div>\\r\\n</div></div><div class=\"links\"><span data-magmin=\"0\">[ Full list ]</span><span data-magmin=\"3\">[ mag&ge;3 ]</span><span data-magmin=\"4\">[ mag&ge;4 ]</span><span data-magmin=\"5\">[ mag&ge;5 ]</span></div><div id=\"nbres\"></div><div class=\"page-cont\"><div class=\"pag spei spei2\">«</div><div class=\"pag spei spei1\">‹</div><div class=\"pag\">1</div><div class=\"pag\">2</div><div class=\"pag\">3</div><div class=\"pag\">4</div><div class=\"pag\">5</div><div class=\"pag\">6</div><div class=\"pag\">7</div><div class=\"pag\">8</div><div class=\"pag\">9</div><div class=\"pag\">10</div><div class=\"pag spes spes1\">›</div><div class=\"pag spes spes2\">»</div></div><div class=\"download\"><span class=\"downl\">Current page:</span><a class=\"downl\" id=\"view_map\" href=\"javascript:viewOnMap();\">View on map</a> <a title=\"Only current page\" class=\"downl\" id=\"download_kml\" href=\"javascript:Emsc_kml._export();\">Export as KML</a> <a class=\"downl\" id=\"download\" href=\"javascript:csv_export();\">Export as csv</a><div class=\"downl\" id=\"text_extra\"><br><a href=\"https://www.seismicportal.eu/fdsn-wsevent.html\">Advanced Exports</a></div></div><div class=\"htab\"><table class=\"eqs table-scroll\" >\\r\\n\\t\\t<thead><tr><th class=\"thico\"><th class=\"citiz\" colspan=\"2\"><div>Citizen<br>response</div><div><div class=\"dm comm\"></div><div class=\"dm pic\"></div></div></th>\\r\\n\\t\\t</th><th class=\"tbdat\">Date & Time<div>UTC</div></th><th class=\"tblat\">Lat.<div>degrees</div></th><th class=\"tblon\">Lon.<div>degrees</div></th><th class=\"tbdep\">Depth<div>km</div></th><th class=\"tbmag\">Mag.<span>[+]</span></th><th class=\"tbreg\">Region</th></tr></thead>\\r\\n\\t\\t<tbody></tbody>\\r\\n\\t\\t</table>\\r\\n\\t\\t</div><div class=\"page-cont\"><div class=\"pag spei spei2\">«</div><div class=\"pag spei spei1\">‹</div><div class=\"pag\">1</div><div class=\"pag\">2</div><div class=\"pag\">3</div><div class=\"pag\">4</div><div class=\"pag\">5</div><div class=\"pag\">6</div><div class=\"pag\">7</div><div class=\"pag\">8</div><div class=\"pag\">9</div><div class=\"pag\">10</div><div class=\"pag spes spes1\">›</div><div class=\"pag spes spes2\">»</div></div><div><b>Bold : Earthquakes with a magnitude &ge; 4.5 in Euro-med, or &ge; 5.5 in the world </b><br/><b style=\"color:red;\">Red : Earthquakes with a magnitude &ge; 5.0 in Euro-med, or &ge; 6.0 in the world </b><br/></div><script>eval(function(p,a,c,k,e,d){e=function(c){return c};if(!\\'\\'.replace(/^/,String)){while(c--){d[c]=k[c]||c}k=[function(e){return d[e]}];e=function(){return\\'\\\\\\\\w+\\'};c=1};while(c--){if(k[c]){p=p.replace(new RegExp(\\'\\\\\\\\b\\'+e(c)+\\'\\\\\\\\b\\',\\'g\\'),k[c])}}return p}(\\'$(8).1(7(){6.5(\"4 1\");$(\".3\").0();$(\".2\").0()});\\',9,9,\\'click|ready|more|search|Doc|log|console|function|document\\'.split(\\'|\\'),0,{}))\\n</script><script> console.log(\"TimeLoad\",0.01003193855); </script></div><div class=\"footer\"><div class=\"foot-cont\"><div class=\"part\"><div class=\"foot-logo-label\">EMSC is the European infrastructure for seismological products in</div><a href=\"https://www.epos-eu.org/\" target=\"_blank\" aria-label=\"epos\"><div class=\"spe foot-logo\"></div></a></div><div class=\"part2\"><div class=\"part-middle\"><a href=\"/faq/\">FAQ</a><a class=\"privacy\" href=\"/privacy/index.php\">© 2023 - privacy</a><a href=\"/contact/\">Contact us</a></div></div><div class=\"part p-soc\"><a aria-label=\"facebook EMSC.CSEM\" target=\"_blank\" href=\"https://www.facebook.com/EMSC.CSEM/\"><span class=\"spe f-facebook\"></span></a><a aria-label=\"twitter lastquake\" target=\"_blank\" href=\"https://twitter.com/lastquake\"><span class=\"spe f-twitter\"></span></a><a aria-label=\"linkedin emsc-csem\" target=\"_blank\"  href=\"https://www.linkedin.com/company/emsc-csem/\"><span class=\"spe f-linkedin\"></span></a><a aria-label=\"youtube EuroMSC\" target=\"_blank\" href=\"https://www.youtube.com/user/EuroMSC\"><span class=\"spe f-youtube\"></span></a></div></div></div></body></html>'"
      ]
     },
     "execution_count": 49,
     "metadata": {},
     "output_type": "execute_result"
    }
   ],
   "source": [
    "requests.request('GET', 'https://www.emsc-csem.org/Earthquake_information/', headers={}, data={}).text"
   ]
  },
  {
   "cell_type": "markdown",
   "metadata": {},
   "source": [
    "List all language names and number of related articles in the order they appear in wikipedia.org: url = 'https://www.wikipedia.org/'"
   ]
  },
  {
   "cell_type": "code",
   "execution_count": 5,
   "metadata": {},
   "outputs": [],
   "source": [
    "import requests\n",
    "from bs4 import BeautifulSoup\n",
    "\n",
    "# URL a scrapear\n",
    "url = 'https://www.wikipedia.org/'\n",
    "\n",
    "# Hacer la solicitud HTTP\n",
    "response = requests.get(url)\n",
    "\n",
    "# Parsear el contenido HTML\n",
    "soup = BeautifulSoup(response.content, 'html.parser')\n",
    "\n",
    "# Encontrar los elementos que contienen los nombres de lenguajes y número de artículos\n",
    "languages = soup.find_all('a', class_='link-box')\n",
    "\n",
    "# Crear una lista para almacenar los resultados\n",
    "language_data = []\n",
    "\n",
    "# Extraer el nombre del idioma y el número de artículos\n",
    "for lang in languages:\n",
    "    language_name = lang.find('strong').text  # Nombre del idioma\n",
    "    article_count = lang.find('small').text   # Número de artículos\n",
    "    language_data.append((language_name, article_count))"
   ]
  },
  {
   "cell_type": "code",
   "execution_count": 6,
   "metadata": {},
   "outputs": [
    {
     "data": {
      "text/plain": [
       "[('English', '6,847,000+ articles'),\n",
       " ('日本語', '1,421,000+ 記事'),\n",
       " ('Deutsch', '2.924.000+ Artikel'),\n",
       " ('Русский', '1\\xa0987\\xa0000+ статей'),\n",
       " ('Español', '1.965.000+ artículos'),\n",
       " ('Français', '2\\u202f621\\u202f000+ articles'),\n",
       " ('中文', '1,429,000+ 条目 / 條目'),\n",
       " ('Italiano', '1.871.000+ voci'),\n",
       " ('فارسی', '۱٬۰۰۶٬۰۰۰+ مقاله'),\n",
       " ('Português', '1.128.000+ artigos')]"
      ]
     },
     "execution_count": 6,
     "metadata": {},
     "output_type": "execute_result"
    }
   ],
   "source": [
    "language_data"
   ]
  },
  {
   "cell_type": "markdown",
   "metadata": {},
   "source": [
    "A list with the different kind of datasets available in data.gov.uk: url = 'https://data.gov.uk/'"
   ]
  },
  {
   "cell_type": "code",
   "execution_count": 9,
   "metadata": {},
   "outputs": [],
   "source": [
    "# URL a scrapear\n",
    "url = 'https://data.gov.uk/'\n",
    "\n",
    "# Hacer la solicitud HTTP\n",
    "response = requests.get(url)\n",
    "\n",
    "# Parsear el contenido HTML\n",
    "soup = BeautifulSoup(response.content, 'html.parser')\n",
    "\n",
    "# Encontrar los elementos que contienen los tipos de bases de datos\n",
    "categories = soup.find_all('a', class_='govuk-link')\n",
    "\n",
    "# Crear una lista para almacenar los resultados\n",
    "database_types = []\n",
    "\n",
    "# Lista de palabras clave a ignorar\n",
    "exclude_keywords = ['cookies', 'cookie', 'View cookies']\n",
    "\n",
    "# Extraer los nombres de las categorías o tipos de bases de datos\n",
    "for category in categories:\n",
    "    category_name = category.text.strip()\n",
    "    # Filtrar las categorías que contienen palabras clave no deseadas\n",
    "    if category_name and not any(keyword.lower() in category_name.lower() for keyword in exclude_keywords):\n",
    "        database_types.append(category_name)"
   ]
  },
  {
   "cell_type": "code",
   "execution_count": 10,
   "metadata": {},
   "outputs": [
    {
     "data": {
      "text/plain": [
       "['Business and economy',\n",
       " 'Crime and justice',\n",
       " 'Defence',\n",
       " 'Education',\n",
       " 'Environment',\n",
       " 'Government',\n",
       " 'Government spending',\n",
       " 'Health',\n",
       " 'Mapping',\n",
       " 'Society',\n",
       " 'Towns and cities',\n",
       " 'Transport',\n",
       " 'Digital service performance',\n",
       " 'Government reference data']"
      ]
     },
     "execution_count": 10,
     "metadata": {},
     "output_type": "execute_result"
    }
   ],
   "source": [
    "database_types"
   ]
  }
 ],
 "metadata": {
  "kernelspec": {
   "display_name": "Python 3",
   "language": "python",
   "name": "python3"
  },
  "language_info": {
   "codemirror_mode": {
    "name": "ipython",
    "version": 3
   },
   "file_extension": ".py",
   "mimetype": "text/x-python",
   "name": "python",
   "nbconvert_exporter": "python",
   "pygments_lexer": "ipython3",
   "version": "3.11.9"
  }
 },
 "nbformat": 4,
 "nbformat_minor": 2
}
